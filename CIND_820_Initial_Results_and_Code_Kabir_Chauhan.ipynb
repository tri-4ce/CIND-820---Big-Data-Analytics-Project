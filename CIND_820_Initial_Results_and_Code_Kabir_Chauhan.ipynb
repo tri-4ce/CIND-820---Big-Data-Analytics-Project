{
  "cells": [
    {
      "cell_type": "markdown",
      "metadata": {
        "id": "kJ6ssXaGJfGN"
      },
      "source": [
        "## CIND 820 - Big Data Analytics Project  \n",
        "### Initial Results and Code (10% of the final grade) \n",
        "### Due on November 21, 2022 11:59 PM\n",
        "\n",
        "\n",
        "####[Kabir Chauhan (501182498)]\n"
      ]
    },
    {
      "cell_type": "markdown",
      "metadata": {
        "id": "jPrZqSxgSWNr"
      },
      "source": [
        "*****\n"
      ]
    },
    {
      "cell_type": "markdown",
      "metadata": {
        "id": "JGmHxZweILgY"
      },
      "source": [
        "### **I) Data Preparation**"
      ]
    },
    {
      "cell_type": "code",
      "execution_count": 5,
      "metadata": {
        "colab": {
          "base_uri": "https://localhost:8080/"
        },
        "collapsed": true,
        "id": "dyeoocLgGbAm",
        "outputId": "9d24dfd1-4066-4940-8775-ca08a65d9359"
      },
      "outputs": [
        {
          "output_type": "stream",
          "name": "stdout",
          "text": [
            "The row count for the PDAC dataset is: 590\n"
          ]
        }
      ],
      "source": [
        "#import the dataset and appropriate modules\n",
        "import pandas as pd\n",
        "import numpy as np\n",
        "import matplotlib.pyplot as plt\n",
        "import seaborn as sns\n",
        "\n",
        "pdac = pd.read_csv(\"Debernardi et al 2020 data.csv\", sep =\",\")\n",
        "\n",
        "#print the row count\n",
        "print(\"The row count for the PDAC dataset is:\", len(pdac))"
      ]
    },
    {
      "cell_type": "code",
      "source": [
        "#summary of dataset\n",
        "pdac.info()\n",
        "pdac.head()"
      ],
      "metadata": {
        "colab": {
          "base_uri": "https://localhost:8080/",
          "height": 581
        },
        "id": "B1J0DXHGSM7Y",
        "outputId": "630894b6-266f-41e2-8686-863ad45cf5ef"
      },
      "execution_count": 6,
      "outputs": [
        {
          "output_type": "stream",
          "name": "stdout",
          "text": [
            "<class 'pandas.core.frame.DataFrame'>\n",
            "RangeIndex: 590 entries, 0 to 589\n",
            "Data columns (total 14 columns):\n",
            " #   Column                   Non-Null Count  Dtype  \n",
            "---  ------                   --------------  -----  \n",
            " 0   sample_id                590 non-null    object \n",
            " 1   patient_cohort           590 non-null    object \n",
            " 2   sample_origin            590 non-null    object \n",
            " 3   age                      590 non-null    int64  \n",
            " 4   sex                      590 non-null    object \n",
            " 5   diagnosis                590 non-null    int64  \n",
            " 6   stage                    199 non-null    object \n",
            " 7   benign_sample_diagnosis  208 non-null    object \n",
            " 8   plasma_CA19_9            350 non-null    float64\n",
            " 9   creatinine               590 non-null    float64\n",
            " 10  LYVE1                    590 non-null    float64\n",
            " 11  REG1B                    590 non-null    float64\n",
            " 12  TFF1                     590 non-null    float64\n",
            " 13  REG1A                    306 non-null    float64\n",
            "dtypes: float64(6), int64(2), object(6)\n",
            "memory usage: 64.7+ KB\n"
          ]
        },
        {
          "output_type": "execute_result",
          "data": {
            "text/plain": [
              "  sample_id patient_cohort sample_origin  age sex  diagnosis stage  \\\n",
              "0        S1        Cohort1          BPTB   33   F          1   NaN   \n",
              "1       S10        Cohort1          BPTB   81   F          1   NaN   \n",
              "2      S100        Cohort2          BPTB   51   M          1   NaN   \n",
              "3      S101        Cohort2          BPTB   61   M          1   NaN   \n",
              "4      S102        Cohort2          BPTB   62   M          1   NaN   \n",
              "\n",
              "  benign_sample_diagnosis  plasma_CA19_9  creatinine     LYVE1      REG1B  \\\n",
              "0                     NaN           11.7     1.83222  0.893219   52.94884   \n",
              "1                     NaN            NaN     0.97266  2.037585   94.46703   \n",
              "2                     NaN            7.0     0.78039  0.145589  102.36600   \n",
              "3                     NaN            8.0     0.70122  0.002805   60.57900   \n",
              "4                     NaN            9.0     0.21489  0.000860   65.54000   \n",
              "\n",
              "         TFF1     REG1A  \n",
              "0  654.282174  1262.000  \n",
              "1  209.488250   228.407  \n",
              "2  461.141000       NaN  \n",
              "3  142.950000       NaN  \n",
              "4   41.088000       NaN  "
            ],
            "text/html": [
              "\n",
              "  <div id=\"df-e9fdaee2-9736-4670-bd1f-b4d6ef4277cc\">\n",
              "    <div class=\"colab-df-container\">\n",
              "      <div>\n",
              "<style scoped>\n",
              "    .dataframe tbody tr th:only-of-type {\n",
              "        vertical-align: middle;\n",
              "    }\n",
              "\n",
              "    .dataframe tbody tr th {\n",
              "        vertical-align: top;\n",
              "    }\n",
              "\n",
              "    .dataframe thead th {\n",
              "        text-align: right;\n",
              "    }\n",
              "</style>\n",
              "<table border=\"1\" class=\"dataframe\">\n",
              "  <thead>\n",
              "    <tr style=\"text-align: right;\">\n",
              "      <th></th>\n",
              "      <th>sample_id</th>\n",
              "      <th>patient_cohort</th>\n",
              "      <th>sample_origin</th>\n",
              "      <th>age</th>\n",
              "      <th>sex</th>\n",
              "      <th>diagnosis</th>\n",
              "      <th>stage</th>\n",
              "      <th>benign_sample_diagnosis</th>\n",
              "      <th>plasma_CA19_9</th>\n",
              "      <th>creatinine</th>\n",
              "      <th>LYVE1</th>\n",
              "      <th>REG1B</th>\n",
              "      <th>TFF1</th>\n",
              "      <th>REG1A</th>\n",
              "    </tr>\n",
              "  </thead>\n",
              "  <tbody>\n",
              "    <tr>\n",
              "      <th>0</th>\n",
              "      <td>S1</td>\n",
              "      <td>Cohort1</td>\n",
              "      <td>BPTB</td>\n",
              "      <td>33</td>\n",
              "      <td>F</td>\n",
              "      <td>1</td>\n",
              "      <td>NaN</td>\n",
              "      <td>NaN</td>\n",
              "      <td>11.7</td>\n",
              "      <td>1.83222</td>\n",
              "      <td>0.893219</td>\n",
              "      <td>52.94884</td>\n",
              "      <td>654.282174</td>\n",
              "      <td>1262.000</td>\n",
              "    </tr>\n",
              "    <tr>\n",
              "      <th>1</th>\n",
              "      <td>S10</td>\n",
              "      <td>Cohort1</td>\n",
              "      <td>BPTB</td>\n",
              "      <td>81</td>\n",
              "      <td>F</td>\n",
              "      <td>1</td>\n",
              "      <td>NaN</td>\n",
              "      <td>NaN</td>\n",
              "      <td>NaN</td>\n",
              "      <td>0.97266</td>\n",
              "      <td>2.037585</td>\n",
              "      <td>94.46703</td>\n",
              "      <td>209.488250</td>\n",
              "      <td>228.407</td>\n",
              "    </tr>\n",
              "    <tr>\n",
              "      <th>2</th>\n",
              "      <td>S100</td>\n",
              "      <td>Cohort2</td>\n",
              "      <td>BPTB</td>\n",
              "      <td>51</td>\n",
              "      <td>M</td>\n",
              "      <td>1</td>\n",
              "      <td>NaN</td>\n",
              "      <td>NaN</td>\n",
              "      <td>7.0</td>\n",
              "      <td>0.78039</td>\n",
              "      <td>0.145589</td>\n",
              "      <td>102.36600</td>\n",
              "      <td>461.141000</td>\n",
              "      <td>NaN</td>\n",
              "    </tr>\n",
              "    <tr>\n",
              "      <th>3</th>\n",
              "      <td>S101</td>\n",
              "      <td>Cohort2</td>\n",
              "      <td>BPTB</td>\n",
              "      <td>61</td>\n",
              "      <td>M</td>\n",
              "      <td>1</td>\n",
              "      <td>NaN</td>\n",
              "      <td>NaN</td>\n",
              "      <td>8.0</td>\n",
              "      <td>0.70122</td>\n",
              "      <td>0.002805</td>\n",
              "      <td>60.57900</td>\n",
              "      <td>142.950000</td>\n",
              "      <td>NaN</td>\n",
              "    </tr>\n",
              "    <tr>\n",
              "      <th>4</th>\n",
              "      <td>S102</td>\n",
              "      <td>Cohort2</td>\n",
              "      <td>BPTB</td>\n",
              "      <td>62</td>\n",
              "      <td>M</td>\n",
              "      <td>1</td>\n",
              "      <td>NaN</td>\n",
              "      <td>NaN</td>\n",
              "      <td>9.0</td>\n",
              "      <td>0.21489</td>\n",
              "      <td>0.000860</td>\n",
              "      <td>65.54000</td>\n",
              "      <td>41.088000</td>\n",
              "      <td>NaN</td>\n",
              "    </tr>\n",
              "  </tbody>\n",
              "</table>\n",
              "</div>\n",
              "      <button class=\"colab-df-convert\" onclick=\"convertToInteractive('df-e9fdaee2-9736-4670-bd1f-b4d6ef4277cc')\"\n",
              "              title=\"Convert this dataframe to an interactive table.\"\n",
              "              style=\"display:none;\">\n",
              "        \n",
              "  <svg xmlns=\"http://www.w3.org/2000/svg\" height=\"24px\"viewBox=\"0 0 24 24\"\n",
              "       width=\"24px\">\n",
              "    <path d=\"M0 0h24v24H0V0z\" fill=\"none\"/>\n",
              "    <path d=\"M18.56 5.44l.94 2.06.94-2.06 2.06-.94-2.06-.94-.94-2.06-.94 2.06-2.06.94zm-11 1L8.5 8.5l.94-2.06 2.06-.94-2.06-.94L8.5 2.5l-.94 2.06-2.06.94zm10 10l.94 2.06.94-2.06 2.06-.94-2.06-.94-.94-2.06-.94 2.06-2.06.94z\"/><path d=\"M17.41 7.96l-1.37-1.37c-.4-.4-.92-.59-1.43-.59-.52 0-1.04.2-1.43.59L10.3 9.45l-7.72 7.72c-.78.78-.78 2.05 0 2.83L4 21.41c.39.39.9.59 1.41.59.51 0 1.02-.2 1.41-.59l7.78-7.78 2.81-2.81c.8-.78.8-2.07 0-2.86zM5.41 20L4 18.59l7.72-7.72 1.47 1.35L5.41 20z\"/>\n",
              "  </svg>\n",
              "      </button>\n",
              "      \n",
              "  <style>\n",
              "    .colab-df-container {\n",
              "      display:flex;\n",
              "      flex-wrap:wrap;\n",
              "      gap: 12px;\n",
              "    }\n",
              "\n",
              "    .colab-df-convert {\n",
              "      background-color: #E8F0FE;\n",
              "      border: none;\n",
              "      border-radius: 50%;\n",
              "      cursor: pointer;\n",
              "      display: none;\n",
              "      fill: #1967D2;\n",
              "      height: 32px;\n",
              "      padding: 0 0 0 0;\n",
              "      width: 32px;\n",
              "    }\n",
              "\n",
              "    .colab-df-convert:hover {\n",
              "      background-color: #E2EBFA;\n",
              "      box-shadow: 0px 1px 2px rgba(60, 64, 67, 0.3), 0px 1px 3px 1px rgba(60, 64, 67, 0.15);\n",
              "      fill: #174EA6;\n",
              "    }\n",
              "\n",
              "    [theme=dark] .colab-df-convert {\n",
              "      background-color: #3B4455;\n",
              "      fill: #D2E3FC;\n",
              "    }\n",
              "\n",
              "    [theme=dark] .colab-df-convert:hover {\n",
              "      background-color: #434B5C;\n",
              "      box-shadow: 0px 1px 3px 1px rgba(0, 0, 0, 0.15);\n",
              "      filter: drop-shadow(0px 1px 2px rgba(0, 0, 0, 0.3));\n",
              "      fill: #FFFFFF;\n",
              "    }\n",
              "  </style>\n",
              "\n",
              "      <script>\n",
              "        const buttonEl =\n",
              "          document.querySelector('#df-e9fdaee2-9736-4670-bd1f-b4d6ef4277cc button.colab-df-convert');\n",
              "        buttonEl.style.display =\n",
              "          google.colab.kernel.accessAllowed ? 'block' : 'none';\n",
              "\n",
              "        async function convertToInteractive(key) {\n",
              "          const element = document.querySelector('#df-e9fdaee2-9736-4670-bd1f-b4d6ef4277cc');\n",
              "          const dataTable =\n",
              "            await google.colab.kernel.invokeFunction('convertToInteractive',\n",
              "                                                     [key], {});\n",
              "          if (!dataTable) return;\n",
              "\n",
              "          const docLinkHtml = 'Like what you see? Visit the ' +\n",
              "            '<a target=\"_blank\" href=https://colab.research.google.com/notebooks/data_table.ipynb>data table notebook</a>'\n",
              "            + ' to learn more about interactive tables.';\n",
              "          element.innerHTML = '';\n",
              "          dataTable['output_type'] = 'display_data';\n",
              "          await google.colab.output.renderOutput(dataTable, element);\n",
              "          const docLink = document.createElement('div');\n",
              "          docLink.innerHTML = docLinkHtml;\n",
              "          element.appendChild(docLink);\n",
              "        }\n",
              "      </script>\n",
              "    </div>\n",
              "  </div>\n",
              "  "
            ]
          },
          "metadata": {},
          "execution_count": 6
        }
      ]
    },
    {
      "cell_type": "code",
      "execution_count": 7,
      "metadata": {
        "colab": {
          "base_uri": "https://localhost:8080/"
        },
        "collapsed": true,
        "id": "CQj0OEyaGbAo",
        "outputId": "ed2fe920-31b9-4374-e383-a102b7baf286"
      },
      "outputs": [
        {
          "output_type": "stream",
          "name": "stdout",
          "text": [
            "sample_id                   object\n",
            "patient_cohort              object\n",
            "sample_origin               object\n",
            "age                          int64\n",
            "sex                         object\n",
            "diagnosis                    int64\n",
            "stage                       object\n",
            "benign_sample_diagnosis     object\n",
            "plasma_CA19_9              float64\n",
            "creatinine                 float64\n",
            "LYVE1                      float64\n",
            "REG1B                      float64\n",
            "TFF1                       float64\n",
            "REG1A                      float64\n",
            "dtype: object\n"
          ]
        }
      ],
      "source": [
        "#check the data types of attributes\n",
        "print(pdac.dtypes)"
      ]
    },
    {
      "cell_type": "code",
      "execution_count": 8,
      "metadata": {
        "colab": {
          "base_uri": "https://localhost:8080/"
        },
        "collapsed": true,
        "id": "Bi_a815OGbAq",
        "outputId": "44fd4f10-f9da-454d-f5b8-5a9c968226a8"
      },
      "outputs": [
        {
          "output_type": "execute_result",
          "data": {
            "text/plain": [
              "sample_id                    0\n",
              "patient_cohort               0\n",
              "sample_origin                0\n",
              "age                          0\n",
              "sex                          0\n",
              "diagnosis                    0\n",
              "stage                      391\n",
              "benign_sample_diagnosis    382\n",
              "plasma_CA19_9              240\n",
              "creatinine                   0\n",
              "LYVE1                        0\n",
              "REG1B                        0\n",
              "TFF1                         0\n",
              "REG1A                      284\n",
              "dtype: int64"
            ]
          },
          "metadata": {},
          "execution_count": 8
        }
      ],
      "source": [
        "#check for missing values\n",
        "pdac.isnull().sum()"
      ]
    },
    {
      "cell_type": "code",
      "source": [
        "#remove the unused columns in a new dataframe and rename columns\n",
        "pdac_modified = pdac.drop(columns=['sample_id','patient_cohort','sample_origin','stage','benign_sample_diagnosis'])\n",
        "\n",
        "pdac_modified = pdac_modified.rename(columns={'diagnosis':'dx','plasma_CA19_9':'CA19','creatinine':'CREAT'})\n",
        "pdac_modified.head()"
      ],
      "metadata": {
        "colab": {
          "base_uri": "https://localhost:8080/",
          "height": 206
        },
        "id": "psPUqHWnTF2k",
        "outputId": "ac03f131-2133-40ad-d996-240d95c14a02"
      },
      "execution_count": 9,
      "outputs": [
        {
          "output_type": "execute_result",
          "data": {
            "text/plain": [
              "   age sex  dx  CA19    CREAT     LYVE1      REG1B        TFF1     REG1A\n",
              "0   33   F   1  11.7  1.83222  0.893219   52.94884  654.282174  1262.000\n",
              "1   81   F   1   NaN  0.97266  2.037585   94.46703  209.488250   228.407\n",
              "2   51   M   1   7.0  0.78039  0.145589  102.36600  461.141000       NaN\n",
              "3   61   M   1   8.0  0.70122  0.002805   60.57900  142.950000       NaN\n",
              "4   62   M   1   9.0  0.21489  0.000860   65.54000   41.088000       NaN"
            ],
            "text/html": [
              "\n",
              "  <div id=\"df-57f6d0fc-0b7b-4087-8a4b-667184a1c9d1\">\n",
              "    <div class=\"colab-df-container\">\n",
              "      <div>\n",
              "<style scoped>\n",
              "    .dataframe tbody tr th:only-of-type {\n",
              "        vertical-align: middle;\n",
              "    }\n",
              "\n",
              "    .dataframe tbody tr th {\n",
              "        vertical-align: top;\n",
              "    }\n",
              "\n",
              "    .dataframe thead th {\n",
              "        text-align: right;\n",
              "    }\n",
              "</style>\n",
              "<table border=\"1\" class=\"dataframe\">\n",
              "  <thead>\n",
              "    <tr style=\"text-align: right;\">\n",
              "      <th></th>\n",
              "      <th>age</th>\n",
              "      <th>sex</th>\n",
              "      <th>dx</th>\n",
              "      <th>CA19</th>\n",
              "      <th>CREAT</th>\n",
              "      <th>LYVE1</th>\n",
              "      <th>REG1B</th>\n",
              "      <th>TFF1</th>\n",
              "      <th>REG1A</th>\n",
              "    </tr>\n",
              "  </thead>\n",
              "  <tbody>\n",
              "    <tr>\n",
              "      <th>0</th>\n",
              "      <td>33</td>\n",
              "      <td>F</td>\n",
              "      <td>1</td>\n",
              "      <td>11.7</td>\n",
              "      <td>1.83222</td>\n",
              "      <td>0.893219</td>\n",
              "      <td>52.94884</td>\n",
              "      <td>654.282174</td>\n",
              "      <td>1262.000</td>\n",
              "    </tr>\n",
              "    <tr>\n",
              "      <th>1</th>\n",
              "      <td>81</td>\n",
              "      <td>F</td>\n",
              "      <td>1</td>\n",
              "      <td>NaN</td>\n",
              "      <td>0.97266</td>\n",
              "      <td>2.037585</td>\n",
              "      <td>94.46703</td>\n",
              "      <td>209.488250</td>\n",
              "      <td>228.407</td>\n",
              "    </tr>\n",
              "    <tr>\n",
              "      <th>2</th>\n",
              "      <td>51</td>\n",
              "      <td>M</td>\n",
              "      <td>1</td>\n",
              "      <td>7.0</td>\n",
              "      <td>0.78039</td>\n",
              "      <td>0.145589</td>\n",
              "      <td>102.36600</td>\n",
              "      <td>461.141000</td>\n",
              "      <td>NaN</td>\n",
              "    </tr>\n",
              "    <tr>\n",
              "      <th>3</th>\n",
              "      <td>61</td>\n",
              "      <td>M</td>\n",
              "      <td>1</td>\n",
              "      <td>8.0</td>\n",
              "      <td>0.70122</td>\n",
              "      <td>0.002805</td>\n",
              "      <td>60.57900</td>\n",
              "      <td>142.950000</td>\n",
              "      <td>NaN</td>\n",
              "    </tr>\n",
              "    <tr>\n",
              "      <th>4</th>\n",
              "      <td>62</td>\n",
              "      <td>M</td>\n",
              "      <td>1</td>\n",
              "      <td>9.0</td>\n",
              "      <td>0.21489</td>\n",
              "      <td>0.000860</td>\n",
              "      <td>65.54000</td>\n",
              "      <td>41.088000</td>\n",
              "      <td>NaN</td>\n",
              "    </tr>\n",
              "  </tbody>\n",
              "</table>\n",
              "</div>\n",
              "      <button class=\"colab-df-convert\" onclick=\"convertToInteractive('df-57f6d0fc-0b7b-4087-8a4b-667184a1c9d1')\"\n",
              "              title=\"Convert this dataframe to an interactive table.\"\n",
              "              style=\"display:none;\">\n",
              "        \n",
              "  <svg xmlns=\"http://www.w3.org/2000/svg\" height=\"24px\"viewBox=\"0 0 24 24\"\n",
              "       width=\"24px\">\n",
              "    <path d=\"M0 0h24v24H0V0z\" fill=\"none\"/>\n",
              "    <path d=\"M18.56 5.44l.94 2.06.94-2.06 2.06-.94-2.06-.94-.94-2.06-.94 2.06-2.06.94zm-11 1L8.5 8.5l.94-2.06 2.06-.94-2.06-.94L8.5 2.5l-.94 2.06-2.06.94zm10 10l.94 2.06.94-2.06 2.06-.94-2.06-.94-.94-2.06-.94 2.06-2.06.94z\"/><path d=\"M17.41 7.96l-1.37-1.37c-.4-.4-.92-.59-1.43-.59-.52 0-1.04.2-1.43.59L10.3 9.45l-7.72 7.72c-.78.78-.78 2.05 0 2.83L4 21.41c.39.39.9.59 1.41.59.51 0 1.02-.2 1.41-.59l7.78-7.78 2.81-2.81c.8-.78.8-2.07 0-2.86zM5.41 20L4 18.59l7.72-7.72 1.47 1.35L5.41 20z\"/>\n",
              "  </svg>\n",
              "      </button>\n",
              "      \n",
              "  <style>\n",
              "    .colab-df-container {\n",
              "      display:flex;\n",
              "      flex-wrap:wrap;\n",
              "      gap: 12px;\n",
              "    }\n",
              "\n",
              "    .colab-df-convert {\n",
              "      background-color: #E8F0FE;\n",
              "      border: none;\n",
              "      border-radius: 50%;\n",
              "      cursor: pointer;\n",
              "      display: none;\n",
              "      fill: #1967D2;\n",
              "      height: 32px;\n",
              "      padding: 0 0 0 0;\n",
              "      width: 32px;\n",
              "    }\n",
              "\n",
              "    .colab-df-convert:hover {\n",
              "      background-color: #E2EBFA;\n",
              "      box-shadow: 0px 1px 2px rgba(60, 64, 67, 0.3), 0px 1px 3px 1px rgba(60, 64, 67, 0.15);\n",
              "      fill: #174EA6;\n",
              "    }\n",
              "\n",
              "    [theme=dark] .colab-df-convert {\n",
              "      background-color: #3B4455;\n",
              "      fill: #D2E3FC;\n",
              "    }\n",
              "\n",
              "    [theme=dark] .colab-df-convert:hover {\n",
              "      background-color: #434B5C;\n",
              "      box-shadow: 0px 1px 3px 1px rgba(0, 0, 0, 0.15);\n",
              "      filter: drop-shadow(0px 1px 2px rgba(0, 0, 0, 0.3));\n",
              "      fill: #FFFFFF;\n",
              "    }\n",
              "  </style>\n",
              "\n",
              "      <script>\n",
              "        const buttonEl =\n",
              "          document.querySelector('#df-57f6d0fc-0b7b-4087-8a4b-667184a1c9d1 button.colab-df-convert');\n",
              "        buttonEl.style.display =\n",
              "          google.colab.kernel.accessAllowed ? 'block' : 'none';\n",
              "\n",
              "        async function convertToInteractive(key) {\n",
              "          const element = document.querySelector('#df-57f6d0fc-0b7b-4087-8a4b-667184a1c9d1');\n",
              "          const dataTable =\n",
              "            await google.colab.kernel.invokeFunction('convertToInteractive',\n",
              "                                                     [key], {});\n",
              "          if (!dataTable) return;\n",
              "\n",
              "          const docLinkHtml = 'Like what you see? Visit the ' +\n",
              "            '<a target=\"_blank\" href=https://colab.research.google.com/notebooks/data_table.ipynb>data table notebook</a>'\n",
              "            + ' to learn more about interactive tables.';\n",
              "          element.innerHTML = '';\n",
              "          dataTable['output_type'] = 'display_data';\n",
              "          await google.colab.output.renderOutput(dataTable, element);\n",
              "          const docLink = document.createElement('div');\n",
              "          docLink.innerHTML = docLinkHtml;\n",
              "          element.appendChild(docLink);\n",
              "        }\n",
              "      </script>\n",
              "    </div>\n",
              "  </div>\n",
              "  "
            ]
          },
          "metadata": {},
          "execution_count": 9
        }
      ]
    },
    {
      "cell_type": "code",
      "source": [
        "#call a function to replace missing values with the mean value for each respective column\n",
        "for i in pdac_modified:\n",
        "    if i!='sex':\n",
        "        pdac_modified[i] = pdac_modified[i].fillna(pdac_modified[i].mean())\n",
        "\n",
        "pdac_modified.head()"
      ],
      "metadata": {
        "colab": {
          "base_uri": "https://localhost:8080/",
          "height": 206
        },
        "id": "4TgYBafyyf-s",
        "outputId": "18d8f8fc-95d8-418d-fb3e-53650a553a9b"
      },
      "execution_count": 11,
      "outputs": [
        {
          "output_type": "execute_result",
          "data": {
            "text/plain": [
              "   age sex  dx        CA19    CREAT     LYVE1      REG1B        TFF1  \\\n",
              "0   33   F   1   11.700000  1.83222  0.893219   52.94884  654.282174   \n",
              "1   81   F   1  654.002944  0.97266  2.037585   94.46703  209.488250   \n",
              "2   51   M   1    7.000000  0.78039  0.145589  102.36600  461.141000   \n",
              "3   61   M   1    8.000000  0.70122  0.002805   60.57900  142.950000   \n",
              "4   62   M   1    9.000000  0.21489  0.000860   65.54000   41.088000   \n",
              "\n",
              "         REG1A  \n",
              "0  1262.000000  \n",
              "1   228.407000  \n",
              "2   735.281222  \n",
              "3   735.281222  \n",
              "4   735.281222  "
            ],
            "text/html": [
              "\n",
              "  <div id=\"df-38c01157-b1d7-4346-840a-64a602614198\">\n",
              "    <div class=\"colab-df-container\">\n",
              "      <div>\n",
              "<style scoped>\n",
              "    .dataframe tbody tr th:only-of-type {\n",
              "        vertical-align: middle;\n",
              "    }\n",
              "\n",
              "    .dataframe tbody tr th {\n",
              "        vertical-align: top;\n",
              "    }\n",
              "\n",
              "    .dataframe thead th {\n",
              "        text-align: right;\n",
              "    }\n",
              "</style>\n",
              "<table border=\"1\" class=\"dataframe\">\n",
              "  <thead>\n",
              "    <tr style=\"text-align: right;\">\n",
              "      <th></th>\n",
              "      <th>age</th>\n",
              "      <th>sex</th>\n",
              "      <th>dx</th>\n",
              "      <th>CA19</th>\n",
              "      <th>CREAT</th>\n",
              "      <th>LYVE1</th>\n",
              "      <th>REG1B</th>\n",
              "      <th>TFF1</th>\n",
              "      <th>REG1A</th>\n",
              "    </tr>\n",
              "  </thead>\n",
              "  <tbody>\n",
              "    <tr>\n",
              "      <th>0</th>\n",
              "      <td>33</td>\n",
              "      <td>F</td>\n",
              "      <td>1</td>\n",
              "      <td>11.700000</td>\n",
              "      <td>1.83222</td>\n",
              "      <td>0.893219</td>\n",
              "      <td>52.94884</td>\n",
              "      <td>654.282174</td>\n",
              "      <td>1262.000000</td>\n",
              "    </tr>\n",
              "    <tr>\n",
              "      <th>1</th>\n",
              "      <td>81</td>\n",
              "      <td>F</td>\n",
              "      <td>1</td>\n",
              "      <td>654.002944</td>\n",
              "      <td>0.97266</td>\n",
              "      <td>2.037585</td>\n",
              "      <td>94.46703</td>\n",
              "      <td>209.488250</td>\n",
              "      <td>228.407000</td>\n",
              "    </tr>\n",
              "    <tr>\n",
              "      <th>2</th>\n",
              "      <td>51</td>\n",
              "      <td>M</td>\n",
              "      <td>1</td>\n",
              "      <td>7.000000</td>\n",
              "      <td>0.78039</td>\n",
              "      <td>0.145589</td>\n",
              "      <td>102.36600</td>\n",
              "      <td>461.141000</td>\n",
              "      <td>735.281222</td>\n",
              "    </tr>\n",
              "    <tr>\n",
              "      <th>3</th>\n",
              "      <td>61</td>\n",
              "      <td>M</td>\n",
              "      <td>1</td>\n",
              "      <td>8.000000</td>\n",
              "      <td>0.70122</td>\n",
              "      <td>0.002805</td>\n",
              "      <td>60.57900</td>\n",
              "      <td>142.950000</td>\n",
              "      <td>735.281222</td>\n",
              "    </tr>\n",
              "    <tr>\n",
              "      <th>4</th>\n",
              "      <td>62</td>\n",
              "      <td>M</td>\n",
              "      <td>1</td>\n",
              "      <td>9.000000</td>\n",
              "      <td>0.21489</td>\n",
              "      <td>0.000860</td>\n",
              "      <td>65.54000</td>\n",
              "      <td>41.088000</td>\n",
              "      <td>735.281222</td>\n",
              "    </tr>\n",
              "  </tbody>\n",
              "</table>\n",
              "</div>\n",
              "      <button class=\"colab-df-convert\" onclick=\"convertToInteractive('df-38c01157-b1d7-4346-840a-64a602614198')\"\n",
              "              title=\"Convert this dataframe to an interactive table.\"\n",
              "              style=\"display:none;\">\n",
              "        \n",
              "  <svg xmlns=\"http://www.w3.org/2000/svg\" height=\"24px\"viewBox=\"0 0 24 24\"\n",
              "       width=\"24px\">\n",
              "    <path d=\"M0 0h24v24H0V0z\" fill=\"none\"/>\n",
              "    <path d=\"M18.56 5.44l.94 2.06.94-2.06 2.06-.94-2.06-.94-.94-2.06-.94 2.06-2.06.94zm-11 1L8.5 8.5l.94-2.06 2.06-.94-2.06-.94L8.5 2.5l-.94 2.06-2.06.94zm10 10l.94 2.06.94-2.06 2.06-.94-2.06-.94-.94-2.06-.94 2.06-2.06.94z\"/><path d=\"M17.41 7.96l-1.37-1.37c-.4-.4-.92-.59-1.43-.59-.52 0-1.04.2-1.43.59L10.3 9.45l-7.72 7.72c-.78.78-.78 2.05 0 2.83L4 21.41c.39.39.9.59 1.41.59.51 0 1.02-.2 1.41-.59l7.78-7.78 2.81-2.81c.8-.78.8-2.07 0-2.86zM5.41 20L4 18.59l7.72-7.72 1.47 1.35L5.41 20z\"/>\n",
              "  </svg>\n",
              "      </button>\n",
              "      \n",
              "  <style>\n",
              "    .colab-df-container {\n",
              "      display:flex;\n",
              "      flex-wrap:wrap;\n",
              "      gap: 12px;\n",
              "    }\n",
              "\n",
              "    .colab-df-convert {\n",
              "      background-color: #E8F0FE;\n",
              "      border: none;\n",
              "      border-radius: 50%;\n",
              "      cursor: pointer;\n",
              "      display: none;\n",
              "      fill: #1967D2;\n",
              "      height: 32px;\n",
              "      padding: 0 0 0 0;\n",
              "      width: 32px;\n",
              "    }\n",
              "\n",
              "    .colab-df-convert:hover {\n",
              "      background-color: #E2EBFA;\n",
              "      box-shadow: 0px 1px 2px rgba(60, 64, 67, 0.3), 0px 1px 3px 1px rgba(60, 64, 67, 0.15);\n",
              "      fill: #174EA6;\n",
              "    }\n",
              "\n",
              "    [theme=dark] .colab-df-convert {\n",
              "      background-color: #3B4455;\n",
              "      fill: #D2E3FC;\n",
              "    }\n",
              "\n",
              "    [theme=dark] .colab-df-convert:hover {\n",
              "      background-color: #434B5C;\n",
              "      box-shadow: 0px 1px 3px 1px rgba(0, 0, 0, 0.15);\n",
              "      filter: drop-shadow(0px 1px 2px rgba(0, 0, 0, 0.3));\n",
              "      fill: #FFFFFF;\n",
              "    }\n",
              "  </style>\n",
              "\n",
              "      <script>\n",
              "        const buttonEl =\n",
              "          document.querySelector('#df-38c01157-b1d7-4346-840a-64a602614198 button.colab-df-convert');\n",
              "        buttonEl.style.display =\n",
              "          google.colab.kernel.accessAllowed ? 'block' : 'none';\n",
              "\n",
              "        async function convertToInteractive(key) {\n",
              "          const element = document.querySelector('#df-38c01157-b1d7-4346-840a-64a602614198');\n",
              "          const dataTable =\n",
              "            await google.colab.kernel.invokeFunction('convertToInteractive',\n",
              "                                                     [key], {});\n",
              "          if (!dataTable) return;\n",
              "\n",
              "          const docLinkHtml = 'Like what you see? Visit the ' +\n",
              "            '<a target=\"_blank\" href=https://colab.research.google.com/notebooks/data_table.ipynb>data table notebook</a>'\n",
              "            + ' to learn more about interactive tables.';\n",
              "          element.innerHTML = '';\n",
              "          dataTable['output_type'] = 'display_data';\n",
              "          await google.colab.output.renderOutput(dataTable, element);\n",
              "          const docLink = document.createElement('div');\n",
              "          docLink.innerHTML = docLinkHtml;\n",
              "          element.appendChild(docLink);\n",
              "        }\n",
              "      </script>\n",
              "    </div>\n",
              "  </div>\n",
              "  "
            ]
          },
          "metadata": {},
          "execution_count": 11
        }
      ]
    },
    {
      "cell_type": "code",
      "source": [
        "#confirm no missing values\n",
        "pdac_modified.isnull().sum()"
      ],
      "metadata": {
        "colab": {
          "base_uri": "https://localhost:8080/"
        },
        "id": "m14_f5zRtFdL",
        "outputId": "f521becb-a9c7-46bb-d32e-b3d9117faa00"
      },
      "execution_count": 12,
      "outputs": [
        {
          "output_type": "execute_result",
          "data": {
            "text/plain": [
              "age      0\n",
              "sex      0\n",
              "dx       0\n",
              "CA19     0\n",
              "CREAT    0\n",
              "LYVE1    0\n",
              "REG1B    0\n",
              "TFF1     0\n",
              "REG1A    0\n",
              "dtype: int64"
            ]
          },
          "metadata": {},
          "execution_count": 12
        }
      ]
    },
    {
      "cell_type": "markdown",
      "source": [
        "### **II) Data Exploration**"
      ],
      "metadata": {
        "id": "9zQ-MalN3gMV"
      }
    },
    {
      "cell_type": "code",
      "execution_count": 13,
      "metadata": {
        "colab": {
          "base_uri": "https://localhost:8080/",
          "height": 238
        },
        "id": "B2n_01tbZyoy",
        "outputId": "fe16216e-6840-4d0f-99e3-da7c1c8de901"
      },
      "outputs": [
        {
          "output_type": "execute_result",
          "data": {
            "text/plain": [
              "           CA19     CREAT     LYVE1     REG1B      TFF1     REG1A\n",
              "CA19   1.000000 -0.023064  0.204001  0.134020  0.132608  0.108028\n",
              "CREAT -0.023064  1.000000  0.338533  0.261906  0.397795  0.045632\n",
              "LYVE1  0.204001  0.338533  1.000000  0.543075  0.577363  0.201722\n",
              "REG1B  0.134020  0.261906  0.543075  1.000000  0.690228  0.347205\n",
              "TFF1   0.132608  0.397795  0.577363  0.690228  1.000000  0.268068\n",
              "REG1A  0.108028  0.045632  0.201722  0.347205  0.268068  1.000000"
            ],
            "text/html": [
              "\n",
              "  <div id=\"df-082225b2-a32c-4deb-8c4e-19f1c2c64cc6\">\n",
              "    <div class=\"colab-df-container\">\n",
              "      <div>\n",
              "<style scoped>\n",
              "    .dataframe tbody tr th:only-of-type {\n",
              "        vertical-align: middle;\n",
              "    }\n",
              "\n",
              "    .dataframe tbody tr th {\n",
              "        vertical-align: top;\n",
              "    }\n",
              "\n",
              "    .dataframe thead th {\n",
              "        text-align: right;\n",
              "    }\n",
              "</style>\n",
              "<table border=\"1\" class=\"dataframe\">\n",
              "  <thead>\n",
              "    <tr style=\"text-align: right;\">\n",
              "      <th></th>\n",
              "      <th>CA19</th>\n",
              "      <th>CREAT</th>\n",
              "      <th>LYVE1</th>\n",
              "      <th>REG1B</th>\n",
              "      <th>TFF1</th>\n",
              "      <th>REG1A</th>\n",
              "    </tr>\n",
              "  </thead>\n",
              "  <tbody>\n",
              "    <tr>\n",
              "      <th>CA19</th>\n",
              "      <td>1.000000</td>\n",
              "      <td>-0.023064</td>\n",
              "      <td>0.204001</td>\n",
              "      <td>0.134020</td>\n",
              "      <td>0.132608</td>\n",
              "      <td>0.108028</td>\n",
              "    </tr>\n",
              "    <tr>\n",
              "      <th>CREAT</th>\n",
              "      <td>-0.023064</td>\n",
              "      <td>1.000000</td>\n",
              "      <td>0.338533</td>\n",
              "      <td>0.261906</td>\n",
              "      <td>0.397795</td>\n",
              "      <td>0.045632</td>\n",
              "    </tr>\n",
              "    <tr>\n",
              "      <th>LYVE1</th>\n",
              "      <td>0.204001</td>\n",
              "      <td>0.338533</td>\n",
              "      <td>1.000000</td>\n",
              "      <td>0.543075</td>\n",
              "      <td>0.577363</td>\n",
              "      <td>0.201722</td>\n",
              "    </tr>\n",
              "    <tr>\n",
              "      <th>REG1B</th>\n",
              "      <td>0.134020</td>\n",
              "      <td>0.261906</td>\n",
              "      <td>0.543075</td>\n",
              "      <td>1.000000</td>\n",
              "      <td>0.690228</td>\n",
              "      <td>0.347205</td>\n",
              "    </tr>\n",
              "    <tr>\n",
              "      <th>TFF1</th>\n",
              "      <td>0.132608</td>\n",
              "      <td>0.397795</td>\n",
              "      <td>0.577363</td>\n",
              "      <td>0.690228</td>\n",
              "      <td>1.000000</td>\n",
              "      <td>0.268068</td>\n",
              "    </tr>\n",
              "    <tr>\n",
              "      <th>REG1A</th>\n",
              "      <td>0.108028</td>\n",
              "      <td>0.045632</td>\n",
              "      <td>0.201722</td>\n",
              "      <td>0.347205</td>\n",
              "      <td>0.268068</td>\n",
              "      <td>1.000000</td>\n",
              "    </tr>\n",
              "  </tbody>\n",
              "</table>\n",
              "</div>\n",
              "      <button class=\"colab-df-convert\" onclick=\"convertToInteractive('df-082225b2-a32c-4deb-8c4e-19f1c2c64cc6')\"\n",
              "              title=\"Convert this dataframe to an interactive table.\"\n",
              "              style=\"display:none;\">\n",
              "        \n",
              "  <svg xmlns=\"http://www.w3.org/2000/svg\" height=\"24px\"viewBox=\"0 0 24 24\"\n",
              "       width=\"24px\">\n",
              "    <path d=\"M0 0h24v24H0V0z\" fill=\"none\"/>\n",
              "    <path d=\"M18.56 5.44l.94 2.06.94-2.06 2.06-.94-2.06-.94-.94-2.06-.94 2.06-2.06.94zm-11 1L8.5 8.5l.94-2.06 2.06-.94-2.06-.94L8.5 2.5l-.94 2.06-2.06.94zm10 10l.94 2.06.94-2.06 2.06-.94-2.06-.94-.94-2.06-.94 2.06-2.06.94z\"/><path d=\"M17.41 7.96l-1.37-1.37c-.4-.4-.92-.59-1.43-.59-.52 0-1.04.2-1.43.59L10.3 9.45l-7.72 7.72c-.78.78-.78 2.05 0 2.83L4 21.41c.39.39.9.59 1.41.59.51 0 1.02-.2 1.41-.59l7.78-7.78 2.81-2.81c.8-.78.8-2.07 0-2.86zM5.41 20L4 18.59l7.72-7.72 1.47 1.35L5.41 20z\"/>\n",
              "  </svg>\n",
              "      </button>\n",
              "      \n",
              "  <style>\n",
              "    .colab-df-container {\n",
              "      display:flex;\n",
              "      flex-wrap:wrap;\n",
              "      gap: 12px;\n",
              "    }\n",
              "\n",
              "    .colab-df-convert {\n",
              "      background-color: #E8F0FE;\n",
              "      border: none;\n",
              "      border-radius: 50%;\n",
              "      cursor: pointer;\n",
              "      display: none;\n",
              "      fill: #1967D2;\n",
              "      height: 32px;\n",
              "      padding: 0 0 0 0;\n",
              "      width: 32px;\n",
              "    }\n",
              "\n",
              "    .colab-df-convert:hover {\n",
              "      background-color: #E2EBFA;\n",
              "      box-shadow: 0px 1px 2px rgba(60, 64, 67, 0.3), 0px 1px 3px 1px rgba(60, 64, 67, 0.15);\n",
              "      fill: #174EA6;\n",
              "    }\n",
              "\n",
              "    [theme=dark] .colab-df-convert {\n",
              "      background-color: #3B4455;\n",
              "      fill: #D2E3FC;\n",
              "    }\n",
              "\n",
              "    [theme=dark] .colab-df-convert:hover {\n",
              "      background-color: #434B5C;\n",
              "      box-shadow: 0px 1px 3px 1px rgba(0, 0, 0, 0.15);\n",
              "      filter: drop-shadow(0px 1px 2px rgba(0, 0, 0, 0.3));\n",
              "      fill: #FFFFFF;\n",
              "    }\n",
              "  </style>\n",
              "\n",
              "      <script>\n",
              "        const buttonEl =\n",
              "          document.querySelector('#df-082225b2-a32c-4deb-8c4e-19f1c2c64cc6 button.colab-df-convert');\n",
              "        buttonEl.style.display =\n",
              "          google.colab.kernel.accessAllowed ? 'block' : 'none';\n",
              "\n",
              "        async function convertToInteractive(key) {\n",
              "          const element = document.querySelector('#df-082225b2-a32c-4deb-8c4e-19f1c2c64cc6');\n",
              "          const dataTable =\n",
              "            await google.colab.kernel.invokeFunction('convertToInteractive',\n",
              "                                                     [key], {});\n",
              "          if (!dataTable) return;\n",
              "\n",
              "          const docLinkHtml = 'Like what you see? Visit the ' +\n",
              "            '<a target=\"_blank\" href=https://colab.research.google.com/notebooks/data_table.ipynb>data table notebook</a>'\n",
              "            + ' to learn more about interactive tables.';\n",
              "          element.innerHTML = '';\n",
              "          dataTable['output_type'] = 'display_data';\n",
              "          await google.colab.output.renderOutput(dataTable, element);\n",
              "          const docLink = document.createElement('div');\n",
              "          docLink.innerHTML = docLinkHtml;\n",
              "          element.appendChild(docLink);\n",
              "        }\n",
              "      </script>\n",
              "    </div>\n",
              "  </div>\n",
              "  "
            ]
          },
          "metadata": {},
          "execution_count": 13
        }
      ],
      "source": [
        "#check for correlation between biomarkers\n",
        "pdac_modified[pdac_modified.columns[3:]].corr()"
      ]
    },
    {
      "cell_type": "code",
      "source": [
        "#visalize the distribution of 'diagnosis' in the population \n",
        "plt.hist(pdac_modified['dx'], bins=9, align='left', color='green', edgecolor='black')"
      ],
      "metadata": {
        "colab": {
          "base_uri": "https://localhost:8080/",
          "height": 336
        },
        "id": "GLoxuL5y4eeM",
        "outputId": "9cee4668-95f6-4b14-9dbf-254f415221ea"
      },
      "execution_count": 14,
      "outputs": [
        {
          "output_type": "execute_result",
          "data": {
            "text/plain": [
              "(array([183.,   0.,   0.,   0., 208.,   0.,   0.,   0., 199.]),\n",
              " array([1.        , 1.22222222, 1.44444444, 1.66666667, 1.88888889,\n",
              "        2.11111111, 2.33333333, 2.55555556, 2.77777778, 3.        ]),\n",
              " <a list of 9 Patch objects>)"
            ]
          },
          "metadata": {},
          "execution_count": 14
        },
        {
          "output_type": "display_data",
          "data": {
            "text/plain": [
              "<Figure size 432x288 with 1 Axes>"
            ],
            "image/png": "[encoded data removed]"
          },
          "metadata": {
            "needs_background": "light"
          }
        }
      ]
    },
    {
      "cell_type": "code",
      "source": [
        "#data normalization prior to EDA\n",
        "\n",
        "#copy the data\n",
        "#normalized_pdac = pdac_modified.copy()\n",
        "#normalized_pdac = normalized_pdac.drop(normalized_pdac.columns[[0, 1, 2]], axis = 1)\n",
        "\n",
        "#apply normalization\n",
        "#for column in normalized_pdac.columns:\n",
        " #    normalized_pdac[column] = (normalized_pdac[column] - normalized_pdac[column].min()) / (normalized_pdac[column].max() - normalized_pdac[column].min())    \n",
        "  \n",
        "#view normalized data\n",
        "\n",
        "#normalized_pdac.head()"
      ],
      "metadata": {
        "id": "dvf9x4Jk-wSo"
      },
      "execution_count": null,
      "outputs": []
    },
    {
      "cell_type": "code",
      "source": [
        "#normalized_pdac = pdac_modified.iloc[:,3:]\n",
        "#pdac_modified.iloc[:,3:] = (normalized_pdac - normalized_pdac.min()) / (normalized_pdac.max() - normalized_pdac.min())\n",
        "\n",
        "#pdac_modified.head()"
      ],
      "metadata": {
        "id": "Ud2SnQJs90Xq"
      },
      "execution_count": null,
      "outputs": []
    },
    {
      "cell_type": "code",
      "source": [
        "#call a function to visualize the correlation between different biomarkers\n",
        "def correlationMatrix(df, graphWidth):\n",
        "\n",
        "    \n",
        "    df = df[[col for col in df if df[col].nunique() > 1]] #keep columns where there are more than 1 unique values\n",
        "    if df.shape[1] < 2:\n",
        "        print(f'No correlation plots shown: The number of non-NaN or constant columns ({df.shape[1]}) is less than 2')\n",
        "        return\n",
        "    corr = df.corr()\n",
        "    plt.figure(num=None, figsize=(graphWidth, graphWidth), dpi=80, facecolor='w', edgecolor='k')\n",
        "    corrMat = plt.matshow(corr, fignum = 1)\n",
        "    plt.xticks(range(len(corr.columns)), corr.columns, rotation=90)\n",
        "    plt.yticks(range(len(corr.columns)), corr.columns)\n",
        "    plt.gca().xaxis.tick_bottom()\n",
        "    plt.colorbar(corrMat)\n",
        "    plt.title('Correlation Matrix for Urinary Biomarkers', fontsize=15)\n",
        "    plt.show()\n",
        "\n",
        "correlationMatrix(pdac_modified, 11)"
      ],
      "metadata": {
        "colab": {
          "base_uri": "https://localhost:8080/",
          "height": 719
        },
        "id": "UKIw2RYmC4Kg",
        "outputId": "830e72af-7ef7-44c9-b6a4-7b64d733e63c"
      },
      "execution_count": 15,
      "outputs": [
        {
          "output_type": "display_data",
          "data": {
            "text/plain": [
              "<Figure size 880x880 with 2 Axes>"
            ],
            "image/png": "[encoded data removed]"
          },
          "metadata": {}
        }
      ]
    },
    {
      "cell_type": "code",
      "source": [
        "#call a function to visualize the correlation between biomarkers and other attributes\n",
        "def plotMatrix(df, plotSize, textSize):\n",
        "    df = df.select_dtypes(include =[np.number]) #use only numerical columns\n",
        "    df = df.dropna('columns')\n",
        "    df = df[[col for col in df if df[col].nunique() > 1]] #only keep columns with >1 unique value\n",
        "    \n",
        "    columnNames = list(df)\n",
        "    if len(columnNames) > 10: # reduce the number of columns for matrix inversion of kernel density plots\n",
        "        columnNames = columnNames[:10]\n",
        "    \n",
        "    df = df[columnNames]\n",
        "    ax = pd.plotting.scatter_matrix(df, alpha=0.75, figsize=[plotSize, plotSize], diagonal='kde')\n",
        "    corrs = df.corr().values\n",
        "    \n",
        "    for i, j in zip(*plt.np.triu_indices_from(ax, k = 1)):\n",
        "        ax[i, j].annotate('Corr. coef = %.3f' % corrs[i, j], (0.8, 0.2), xycoords='axes fraction', ha='center', va='center', size=textSize)\n",
        "    \n",
        "    plt.suptitle('Scatter and Density Plot')\n",
        "    plt.show()\n",
        "\n",
        "plotMatrix(pdac_modified, 10, 10)"
      ],
      "metadata": {
        "colab": {
          "base_uri": "https://localhost:8080/",
          "height": 729
        },
        "id": "OXQUktgvJqVe",
        "outputId": "4a59f066-1f56-4d36-b810-c95d1afe0775"
      },
      "execution_count": 16,
      "outputs": [
        {
          "output_type": "stream",
          "name": "stderr",
          "text": [
            "/usr/local/lib/python3.7/dist-packages/ipykernel_launcher.py:4: FutureWarning: In a future version of pandas all arguments of DataFrame.dropna will be keyword-only\n",
            "  after removing the cwd from sys.path.\n"
          ]
        },
        {
          "output_type": "display_data",
          "data": {
            "text/plain": [
              "<Figure size 720x720 with 64 Axes>"
            ],
            "image/png": "[encoded data removed]"
          },
          "metadata": {
            "needs_background": "light"
          }
        }
      ]
    },
    {
      "cell_type": "code",
      "source": [
        "#normalize the dataset and concatenate with discrete variables\n",
        "s1,s0 = np.split(pdac_modified,[3],axis=1)\n",
        "normalized_pdac = pd.concat([s1,(s0 - s0.min()) / (s0.max() - s0.min())],axis=1)\n",
        "\n",
        "normalized_pdac.head()"
      ],
      "metadata": {
        "colab": {
          "base_uri": "https://localhost:8080/",
          "height": 206
        },
        "id": "6bhJs3zd_PYS",
        "outputId": "6521af3b-0cd0-48f7-f099-b1f5f684699d"
      },
      "execution_count": 17,
      "outputs": [
        {
          "output_type": "execute_result",
          "data": {
            "text/plain": [
              "  age sex dx      CA19     CREAT     LYVE1     REG1B      TFF1     REG1A\n",
              "0  33   F  1  0.000377  0.437326  0.037383  0.037715   0.04903  0.095606\n",
              "1  81   F  1  0.021097  0.225627  0.085284  0.067288  0.015698  0.017304\n",
              "2  51   M  1  0.000226  0.178273  0.006089  0.072915  0.034557  0.055703\n",
              "3  61   M  1  0.000258  0.158774  0.000112   0.04315  0.010712  0.055703\n",
              "4  62   M  1   0.00029  0.038997  0.000031  0.046684  0.003079  0.055703"
            ],
            "text/html": [
              "\n",
              "  <div id=\"df-2b80228c-c441-4fcf-9b8c-da84624ff35f\">\n",
              "    <div class=\"colab-df-container\">\n",
              "      <div>\n",
              "<style scoped>\n",
              "    .dataframe tbody tr th:only-of-type {\n",
              "        vertical-align: middle;\n",
              "    }\n",
              "\n",
              "    .dataframe tbody tr th {\n",
              "        vertical-align: top;\n",
              "    }\n",
              "\n",
              "    .dataframe thead th {\n",
              "        text-align: right;\n",
              "    }\n",
              "</style>\n",
              "<table border=\"1\" class=\"dataframe\">\n",
              "  <thead>\n",
              "    <tr style=\"text-align: right;\">\n",
              "      <th></th>\n",
              "      <th>age</th>\n",
              "      <th>sex</th>\n",
              "      <th>dx</th>\n",
              "      <th>CA19</th>\n",
              "      <th>CREAT</th>\n",
              "      <th>LYVE1</th>\n",
              "      <th>REG1B</th>\n",
              "      <th>TFF1</th>\n",
              "      <th>REG1A</th>\n",
              "    </tr>\n",
              "  </thead>\n",
              "  <tbody>\n",
              "    <tr>\n",
              "      <th>0</th>\n",
              "      <td>33</td>\n",
              "      <td>F</td>\n",
              "      <td>1</td>\n",
              "      <td>0.000377</td>\n",
              "      <td>0.437326</td>\n",
              "      <td>0.037383</td>\n",
              "      <td>0.037715</td>\n",
              "      <td>0.04903</td>\n",
              "      <td>0.095606</td>\n",
              "    </tr>\n",
              "    <tr>\n",
              "      <th>1</th>\n",
              "      <td>81</td>\n",
              "      <td>F</td>\n",
              "      <td>1</td>\n",
              "      <td>0.021097</td>\n",
              "      <td>0.225627</td>\n",
              "      <td>0.085284</td>\n",
              "      <td>0.067288</td>\n",
              "      <td>0.015698</td>\n",
              "      <td>0.017304</td>\n",
              "    </tr>\n",
              "    <tr>\n",
              "      <th>2</th>\n",
              "      <td>51</td>\n",
              "      <td>M</td>\n",
              "      <td>1</td>\n",
              "      <td>0.000226</td>\n",
              "      <td>0.178273</td>\n",
              "      <td>0.006089</td>\n",
              "      <td>0.072915</td>\n",
              "      <td>0.034557</td>\n",
              "      <td>0.055703</td>\n",
              "    </tr>\n",
              "    <tr>\n",
              "      <th>3</th>\n",
              "      <td>61</td>\n",
              "      <td>M</td>\n",
              "      <td>1</td>\n",
              "      <td>0.000258</td>\n",
              "      <td>0.158774</td>\n",
              "      <td>0.000112</td>\n",
              "      <td>0.04315</td>\n",
              "      <td>0.010712</td>\n",
              "      <td>0.055703</td>\n",
              "    </tr>\n",
              "    <tr>\n",
              "      <th>4</th>\n",
              "      <td>62</td>\n",
              "      <td>M</td>\n",
              "      <td>1</td>\n",
              "      <td>0.00029</td>\n",
              "      <td>0.038997</td>\n",
              "      <td>0.000031</td>\n",
              "      <td>0.046684</td>\n",
              "      <td>0.003079</td>\n",
              "      <td>0.055703</td>\n",
              "    </tr>\n",
              "  </tbody>\n",
              "</table>\n",
              "</div>\n",
              "      <button class=\"colab-df-convert\" onclick=\"convertToInteractive('df-2b80228c-c441-4fcf-9b8c-da84624ff35f')\"\n",
              "              title=\"Convert this dataframe to an interactive table.\"\n",
              "              style=\"display:none;\">\n",
              "        \n",
              "  <svg xmlns=\"http://www.w3.org/2000/svg\" height=\"24px\"viewBox=\"0 0 24 24\"\n",
              "       width=\"24px\">\n",
              "    <path d=\"M0 0h24v24H0V0z\" fill=\"none\"/>\n",
              "    <path d=\"M18.56 5.44l.94 2.06.94-2.06 2.06-.94-2.06-.94-.94-2.06-.94 2.06-2.06.94zm-11 1L8.5 8.5l.94-2.06 2.06-.94-2.06-.94L8.5 2.5l-.94 2.06-2.06.94zm10 10l.94 2.06.94-2.06 2.06-.94-2.06-.94-.94-2.06-.94 2.06-2.06.94z\"/><path d=\"M17.41 7.96l-1.37-1.37c-.4-.4-.92-.59-1.43-.59-.52 0-1.04.2-1.43.59L10.3 9.45l-7.72 7.72c-.78.78-.78 2.05 0 2.83L4 21.41c.39.39.9.59 1.41.59.51 0 1.02-.2 1.41-.59l7.78-7.78 2.81-2.81c.8-.78.8-2.07 0-2.86zM5.41 20L4 18.59l7.72-7.72 1.47 1.35L5.41 20z\"/>\n",
              "  </svg>\n",
              "      </button>\n",
              "      \n",
              "  <style>\n",
              "    .colab-df-container {\n",
              "      display:flex;\n",
              "      flex-wrap:wrap;\n",
              "      gap: 12px;\n",
              "    }\n",
              "\n",
              "    .colab-df-convert {\n",
              "      background-color: #E8F0FE;\n",
              "      border: none;\n",
              "      border-radius: 50%;\n",
              "      cursor: pointer;\n",
              "      display: none;\n",
              "      fill: #1967D2;\n",
              "      height: 32px;\n",
              "      padding: 0 0 0 0;\n",
              "      width: 32px;\n",
              "    }\n",
              "\n",
              "    .colab-df-convert:hover {\n",
              "      background-color: #E2EBFA;\n",
              "      box-shadow: 0px 1px 2px rgba(60, 64, 67, 0.3), 0px 1px 3px 1px rgba(60, 64, 67, 0.15);\n",
              "      fill: #174EA6;\n",
              "    }\n",
              "\n",
              "    [theme=dark] .colab-df-convert {\n",
              "      background-color: #3B4455;\n",
              "      fill: #D2E3FC;\n",
              "    }\n",
              "\n",
              "    [theme=dark] .colab-df-convert:hover {\n",
              "      background-color: #434B5C;\n",
              "      box-shadow: 0px 1px 3px 1px rgba(0, 0, 0, 0.15);\n",
              "      filter: drop-shadow(0px 1px 2px rgba(0, 0, 0, 0.3));\n",
              "      fill: #FFFFFF;\n",
              "    }\n",
              "  </style>\n",
              "\n",
              "      <script>\n",
              "        const buttonEl =\n",
              "          document.querySelector('#df-2b80228c-c441-4fcf-9b8c-da84624ff35f button.colab-df-convert');\n",
              "        buttonEl.style.display =\n",
              "          google.colab.kernel.accessAllowed ? 'block' : 'none';\n",
              "\n",
              "        async function convertToInteractive(key) {\n",
              "          const element = document.querySelector('#df-2b80228c-c441-4fcf-9b8c-da84624ff35f');\n",
              "          const dataTable =\n",
              "            await google.colab.kernel.invokeFunction('convertToInteractive',\n",
              "                                                     [key], {});\n",
              "          if (!dataTable) return;\n",
              "\n",
              "          const docLinkHtml = 'Like what you see? Visit the ' +\n",
              "            '<a target=\"_blank\" href=https://colab.research.google.com/notebooks/data_table.ipynb>data table notebook</a>'\n",
              "            + ' to learn more about interactive tables.';\n",
              "          element.innerHTML = '';\n",
              "          dataTable['output_type'] = 'display_data';\n",
              "          await google.colab.output.renderOutput(dataTable, element);\n",
              "          const docLink = document.createElement('div');\n",
              "          docLink.innerHTML = docLinkHtml;\n",
              "          element.appendChild(docLink);\n",
              "        }\n",
              "      </script>\n",
              "    </div>\n",
              "  </div>\n",
              "  "
            ]
          },
          "metadata": {},
          "execution_count": 17
        }
      ]
    },
    {
      "cell_type": "code",
      "source": [
        "#visualize the distribution of age by diagnosis in the dataset\n",
        "plt.style.use('seaborn-whitegrid')\n",
        "plot1 = normalized_pdac.groupby('dx')['age'].mean().nlargest(20).plot.bar(facecolor='#2ab0ff', edgecolor='#e0e0e0', linewidth=0.5, alpha=0.7)\n",
        "plt.title('Distribution of Age by Diagnosis')\n",
        "plt.xlabel('Diagnosis')\n",
        "plt.ylabel('Age')"
      ],
      "metadata": {
        "colab": {
          "base_uri": "https://localhost:8080/",
          "height": 304
        },
        "id": "-4VSPl0KCact",
        "outputId": "78672c60-d88c-4441-978b-d6743f850d4c"
      },
      "execution_count": 18,
      "outputs": [
        {
          "output_type": "execute_result",
          "data": {
            "text/plain": [
              "Text(0, 0.5, 'Age')"
            ]
          },
          "metadata": {},
          "execution_count": 18
        },
        {
          "output_type": "display_data",
          "data": {
            "text/plain": [
              "<Figure size 432x288 with 1 Axes>"
            ],
            "image/png": "[encoded data removed]"
          },
          "metadata": {}
        }
      ]
    },
    {
      "cell_type": "code",
      "source": [
        "#visualize the distribution of diagnosis by gender in the dataset\n",
        "plot2 = normalized_pdac.groupby('sex')['dx'].mean().nlargest(20).plot.bar(facecolor='#2ab0ff', edgecolor='#e0e0e0', linewidth=0.5, alpha=0.7)\n",
        "plt.title('Distribution of Diagnosis by Sex')\n",
        "plt.xlabel('Sex')\n",
        "plt.ylabel('Diagnosis')"
      ],
      "metadata": {
        "colab": {
          "base_uri": "https://localhost:8080/",
          "height": 307
        },
        "id": "TC7cCizZCn-d",
        "outputId": "9d351146-1791-4879-f173-9cfbc7461650"
      },
      "execution_count": 19,
      "outputs": [
        {
          "output_type": "execute_result",
          "data": {
            "text/plain": [
              "Text(0, 0.5, 'Diagnosis')"
            ]
          },
          "metadata": {},
          "execution_count": 19
        },
        {
          "output_type": "display_data",
          "data": {
            "text/plain": [
              "<Figure size 432x288 with 1 Axes>"
            ],
            "image/png": "[encoded data removed]"
          },
          "metadata": {}
        }
      ]
    },
    {
      "cell_type": "markdown",
      "source": [
        "### **III) Classification Machine Learning Algorithms**"
      ],
      "metadata": {
        "id": "kGjB5tQa2wRm"
      }
    },
    {
      "cell_type": "markdown",
      "source": [
        "#### **a) Algorithm 1 - Decision Tree**\n",
        "\n"
      ],
      "metadata": {
        "id": "l3SgIF0npg1e"
      }
    },
    {
      "cell_type": "code",
      "source": [
        "#convert the nominal gender variable to numeric\n",
        "normalized_pdac['sex'].replace({'M':1, 'F':0}, inplace=True)\n",
        "\n",
        "normalized_pdac.head()"
      ],
      "metadata": {
        "colab": {
          "base_uri": "https://localhost:8080/",
          "height": 206
        },
        "id": "8pIWdlTQbP5Z",
        "outputId": "509d129e-5e38-4861-f643-8869fd016232"
      },
      "execution_count": 20,
      "outputs": [
        {
          "output_type": "execute_result",
          "data": {
            "text/plain": [
              "  age  sex dx      CA19     CREAT     LYVE1     REG1B      TFF1     REG1A\n",
              "0  33    0  1  0.000377  0.437326  0.037383  0.037715   0.04903  0.095606\n",
              "1  81    0  1  0.021097  0.225627  0.085284  0.067288  0.015698  0.017304\n",
              "2  51    1  1  0.000226  0.178273  0.006089  0.072915  0.034557  0.055703\n",
              "3  61    1  1  0.000258  0.158774  0.000112   0.04315  0.010712  0.055703\n",
              "4  62    1  1   0.00029  0.038997  0.000031  0.046684  0.003079  0.055703"
            ],
            "text/html": [
              "\n",
              "  <div id=\"df-35f2dbd6-3cae-4ab7-8a5c-08eeaa28f0cc\">\n",
              "    <div class=\"colab-df-container\">\n",
              "      <div>\n",
              "<style scoped>\n",
              "    .dataframe tbody tr th:only-of-type {\n",
              "        vertical-align: middle;\n",
              "    }\n",
              "\n",
              "    .dataframe tbody tr th {\n",
              "        vertical-align: top;\n",
              "    }\n",
              "\n",
              "    .dataframe thead th {\n",
              "        text-align: right;\n",
              "    }\n",
              "</style>\n",
              "<table border=\"1\" class=\"dataframe\">\n",
              "  <thead>\n",
              "    <tr style=\"text-align: right;\">\n",
              "      <th></th>\n",
              "      <th>age</th>\n",
              "      <th>sex</th>\n",
              "      <th>dx</th>\n",
              "      <th>CA19</th>\n",
              "      <th>CREAT</th>\n",
              "      <th>LYVE1</th>\n",
              "      <th>REG1B</th>\n",
              "      <th>TFF1</th>\n",
              "      <th>REG1A</th>\n",
              "    </tr>\n",
              "  </thead>\n",
              "  <tbody>\n",
              "    <tr>\n",
              "      <th>0</th>\n",
              "      <td>33</td>\n",
              "      <td>0</td>\n",
              "      <td>1</td>\n",
              "      <td>0.000377</td>\n",
              "      <td>0.437326</td>\n",
              "      <td>0.037383</td>\n",
              "      <td>0.037715</td>\n",
              "      <td>0.04903</td>\n",
              "      <td>0.095606</td>\n",
              "    </tr>\n",
              "    <tr>\n",
              "      <th>1</th>\n",
              "      <td>81</td>\n",
              "      <td>0</td>\n",
              "      <td>1</td>\n",
              "      <td>0.021097</td>\n",
              "      <td>0.225627</td>\n",
              "      <td>0.085284</td>\n",
              "      <td>0.067288</td>\n",
              "      <td>0.015698</td>\n",
              "      <td>0.017304</td>\n",
              "    </tr>\n",
              "    <tr>\n",
              "      <th>2</th>\n",
              "      <td>51</td>\n",
              "      <td>1</td>\n",
              "      <td>1</td>\n",
              "      <td>0.000226</td>\n",
              "      <td>0.178273</td>\n",
              "      <td>0.006089</td>\n",
              "      <td>0.072915</td>\n",
              "      <td>0.034557</td>\n",
              "      <td>0.055703</td>\n",
              "    </tr>\n",
              "    <tr>\n",
              "      <th>3</th>\n",
              "      <td>61</td>\n",
              "      <td>1</td>\n",
              "      <td>1</td>\n",
              "      <td>0.000258</td>\n",
              "      <td>0.158774</td>\n",
              "      <td>0.000112</td>\n",
              "      <td>0.04315</td>\n",
              "      <td>0.010712</td>\n",
              "      <td>0.055703</td>\n",
              "    </tr>\n",
              "    <tr>\n",
              "      <th>4</th>\n",
              "      <td>62</td>\n",
              "      <td>1</td>\n",
              "      <td>1</td>\n",
              "      <td>0.00029</td>\n",
              "      <td>0.038997</td>\n",
              "      <td>0.000031</td>\n",
              "      <td>0.046684</td>\n",
              "      <td>0.003079</td>\n",
              "      <td>0.055703</td>\n",
              "    </tr>\n",
              "  </tbody>\n",
              "</table>\n",
              "</div>\n",
              "      <button class=\"colab-df-convert\" onclick=\"convertToInteractive('df-35f2dbd6-3cae-4ab7-8a5c-08eeaa28f0cc')\"\n",
              "              title=\"Convert this dataframe to an interactive table.\"\n",
              "              style=\"display:none;\">\n",
              "        \n",
              "  <svg xmlns=\"http://www.w3.org/2000/svg\" height=\"24px\"viewBox=\"0 0 24 24\"\n",
              "       width=\"24px\">\n",
              "    <path d=\"M0 0h24v24H0V0z\" fill=\"none\"/>\n",
              "    <path d=\"M18.56 5.44l.94 2.06.94-2.06 2.06-.94-2.06-.94-.94-2.06-.94 2.06-2.06.94zm-11 1L8.5 8.5l.94-2.06 2.06-.94-2.06-.94L8.5 2.5l-.94 2.06-2.06.94zm10 10l.94 2.06.94-2.06 2.06-.94-2.06-.94-.94-2.06-.94 2.06-2.06.94z\"/><path d=\"M17.41 7.96l-1.37-1.37c-.4-.4-.92-.59-1.43-.59-.52 0-1.04.2-1.43.59L10.3 9.45l-7.72 7.72c-.78.78-.78 2.05 0 2.83L4 21.41c.39.39.9.59 1.41.59.51 0 1.02-.2 1.41-.59l7.78-7.78 2.81-2.81c.8-.78.8-2.07 0-2.86zM5.41 20L4 18.59l7.72-7.72 1.47 1.35L5.41 20z\"/>\n",
              "  </svg>\n",
              "      </button>\n",
              "      \n",
              "  <style>\n",
              "    .colab-df-container {\n",
              "      display:flex;\n",
              "      flex-wrap:wrap;\n",
              "      gap: 12px;\n",
              "    }\n",
              "\n",
              "    .colab-df-convert {\n",
              "      background-color: #E8F0FE;\n",
              "      border: none;\n",
              "      border-radius: 50%;\n",
              "      cursor: pointer;\n",
              "      display: none;\n",
              "      fill: #1967D2;\n",
              "      height: 32px;\n",
              "      padding: 0 0 0 0;\n",
              "      width: 32px;\n",
              "    }\n",
              "\n",
              "    .colab-df-convert:hover {\n",
              "      background-color: #E2EBFA;\n",
              "      box-shadow: 0px 1px 2px rgba(60, 64, 67, 0.3), 0px 1px 3px 1px rgba(60, 64, 67, 0.15);\n",
              "      fill: #174EA6;\n",
              "    }\n",
              "\n",
              "    [theme=dark] .colab-df-convert {\n",
              "      background-color: #3B4455;\n",
              "      fill: #D2E3FC;\n",
              "    }\n",
              "\n",
              "    [theme=dark] .colab-df-convert:hover {\n",
              "      background-color: #434B5C;\n",
              "      box-shadow: 0px 1px 3px 1px rgba(0, 0, 0, 0.15);\n",
              "      filter: drop-shadow(0px 1px 2px rgba(0, 0, 0, 0.3));\n",
              "      fill: #FFFFFF;\n",
              "    }\n",
              "  </style>\n",
              "\n",
              "      <script>\n",
              "        const buttonEl =\n",
              "          document.querySelector('#df-35f2dbd6-3cae-4ab7-8a5c-08eeaa28f0cc button.colab-df-convert');\n",
              "        buttonEl.style.display =\n",
              "          google.colab.kernel.accessAllowed ? 'block' : 'none';\n",
              "\n",
              "        async function convertToInteractive(key) {\n",
              "          const element = document.querySelector('#df-35f2dbd6-3cae-4ab7-8a5c-08eeaa28f0cc');\n",
              "          const dataTable =\n",
              "            await google.colab.kernel.invokeFunction('convertToInteractive',\n",
              "                                                     [key], {});\n",
              "          if (!dataTable) return;\n",
              "\n",
              "          const docLinkHtml = 'Like what you see? Visit the ' +\n",
              "            '<a target=\"_blank\" href=https://colab.research.google.com/notebooks/data_table.ipynb>data table notebook</a>'\n",
              "            + ' to learn more about interactive tables.';\n",
              "          element.innerHTML = '';\n",
              "          dataTable['output_type'] = 'display_data';\n",
              "          await google.colab.output.renderOutput(dataTable, element);\n",
              "          const docLink = document.createElement('div');\n",
              "          docLink.innerHTML = docLinkHtml;\n",
              "          element.appendChild(docLink);\n",
              "        }\n",
              "      </script>\n",
              "    </div>\n",
              "  </div>\n",
              "  "
            ]
          },
          "metadata": {},
          "execution_count": 20
        }
      ]
    },
    {
      "cell_type": "code",
      "source": [
        "#implement a train-test split\n",
        "from sklearn.model_selection import train_test_split\n",
        "\n",
        "\n",
        "#target='dx'\n",
        "#x = df.drop(target, axis=1)\n",
        "#y = df[target]\n",
        "\n",
        "X_train, X_test, y_train, y_test = train_test_split(normalized_pdac[normalized_pdac.columns[3:8]], normalized_pdac[normalized_pdac.columns[2]], test_size = 0.20, random_state = 25)"
      ],
      "metadata": {
        "id": "G_LaHq3fcLdk"
      },
      "execution_count": 51,
      "outputs": []
    },
    {
      "cell_type": "code",
      "source": [
        "#fit Decision Tree classifier to the dataset\n",
        "from sklearn.tree import DecisionTreeClassifier\n",
        "y_train = y_train.astype('int')\n",
        "\n",
        "dt = DecisionTreeClassifier()\n",
        "dt.fit(X_train, y_train)"
      ],
      "metadata": {
        "colab": {
          "base_uri": "https://localhost:8080/"
        },
        "id": "IaAd_onYdHEP",
        "outputId": "44082abb-3976-44da-d0c9-d66444ebf25c"
      },
      "execution_count": 52,
      "outputs": [
        {
          "output_type": "execute_result",
          "data": {
            "text/plain": [
              "DecisionTreeClassifier()"
            ]
          },
          "metadata": {},
          "execution_count": 52
        }
      ]
    },
    {
      "cell_type": "code",
      "source": [
        "#demonstrate prediction\n",
        "y_pred = dt.predict(X_test)\n",
        "print(y_pred[:5])"
      ],
      "metadata": {
        "colab": {
          "base_uri": "https://localhost:8080/"
        },
        "id": "RsIH5eKP22S9",
        "outputId": "6bbfdcd1-d104-4060-883b-51abe14a66a5"
      },
      "execution_count": 53,
      "outputs": [
        {
          "output_type": "stream",
          "name": "stdout",
          "text": [
            "[1 3 2 1 1]\n"
          ]
        }
      ]
    },
    {
      "cell_type": "code",
      "source": [
        "#implmented stratified k-fold cross validation\n",
        "from sklearn.model_selection import KFold, StratifiedKFold, cross_val_score\n",
        "\n",
        "kf = StratifiedKFold(n_splits=5, shuffle=True, random_state=25)\n",
        "cnt = 1\n",
        "for train_index, test_index in kf.split(X_train, y_train):\n",
        "    print(f'Fold:{cnt}, Train set: {len(train_index)}, Test set:{len(test_index)}')\n",
        "    cnt+=1\n",
        "\n"
      ],
      "metadata": {
        "colab": {
          "base_uri": "https://localhost:8080/"
        },
        "id": "Blt0mhbLA5sU",
        "outputId": "c8b5e494-2829-4ad3-b815-0eaac6118812"
      },
      "execution_count": 62,
      "outputs": [
        {
          "output_type": "stream",
          "name": "stdout",
          "text": [
            "Fold:1, Train set: 377, Test set:95\n",
            "Fold:2, Train set: 377, Test set:95\n",
            "Fold:3, Train set: 378, Test set:94\n",
            "Fold:4, Train set: 378, Test set:94\n",
            "Fold:5, Train set: 378, Test set:94\n"
          ]
        }
      ]
    },
    {
      "cell_type": "code",
      "source": [
        "#obtain the scores for each fold and the average\n",
        "score = cross_val_score(tree.DecisionTreeClassifier(random_state= 25), X_train, y_train, cv= kf, scoring=\"accuracy\")\n",
        "\n",
        "print(f'Scores for each fold are: {score}')\n",
        "print(f'Average score: {\"{:.2f}\".format(score.mean())}')"
      ],
      "metadata": {
        "colab": {
          "base_uri": "https://localhost:8080/"
        },
        "id": "Qh-TEwRhLPBO",
        "outputId": "0bf0e091-911e-4387-eaf3-7a31e8c3dbaf"
      },
      "execution_count": 63,
      "outputs": [
        {
          "output_type": "stream",
          "name": "stdout",
          "text": [
            "Scores for each fold are: [0.64210526 0.57894737 0.56382979 0.59574468 0.56382979]\n",
            "Average score: 0.59\n"
          ]
        }
      ]
    },
    {
      "cell_type": "code",
      "source": [
        "#generate a confusion matrix and visualize the results\n",
        "from sklearn.metrics import confusion_matrix, classification_report\n",
        "\n",
        "cm = confusion_matrix(list(y_test.values), y_pred)\n",
        "print(cm)\n",
        "\n",
        "f = sns.heatmap(cm, annot=True, fmt='d')"
      ],
      "metadata": {
        "colab": {
          "base_uri": "https://localhost:8080/",
          "height": 316
        },
        "id": "lb8Keofu2_m-",
        "outputId": "054c597a-1a5a-414d-e69e-39cb3719aae1"
      },
      "execution_count": 69,
      "outputs": [
        {
          "output_type": "stream",
          "name": "stdout",
          "text": [
            "[[23 13  0]\n",
            " [12 19 14]\n",
            " [ 2  4 31]]\n"
          ]
        },
        {
          "output_type": "display_data",
          "data": {
            "text/plain": [
              "<Figure size 432x288 with 2 Axes>"
            ],
            "image/png": "[encoded data removed]"
          },
          "metadata": {}
        }
      ]
    },
    {
      "cell_type": "code",
      "source": [
        "#calculate sensitivity, specificity, positive/negative predictive values, f1-score\n",
        "\n",
        "from sklearn.metrics import f1_score\n",
        "#f1 score is defined as: 2 * (precision * recall) / (precision + recall)\n",
        "\n",
        "total=sum(sum(cm))\n",
        "\n",
        "sensitivity = cm[0,0]/(cm[0,0]+cm[1,0])\n",
        "print('Sensitivity is: ', sensitivity )\n",
        "\n",
        "specificity = cm[1,1]/(cm[1,1]+cm[0,1])\n",
        "print('Specificity is: ', specificity)\n",
        "\n",
        "ppv = cm[0,0]/(cm[0,0]+cm[0,1])\n",
        "print('ppv is: ', ppv )\n",
        "\n",
        "npv = cm[1,1]/(cm[1,0]+cm[1,1])\n",
        "print('npv is: ', npv)\n",
        "\n",
        "F1Score = f1_score(list(y_test.values), y_pred, average='micro') #alternative averages include: binary, macro, weighted, samples\n",
        "print('F1 Score is : ', F1Score)"
      ],
      "metadata": {
        "colab": {
          "base_uri": "https://localhost:8080/"
        },
        "id": "bX-BbujL8jDc",
        "outputId": "acc90b8f-8ef5-493a-e478-d3a833a7f906"
      },
      "execution_count": 66,
      "outputs": [
        {
          "output_type": "stream",
          "name": "stdout",
          "text": [
            "Sensitivity is:  0.6571428571428571\n",
            "Specificity is:  0.59375\n",
            "ppv is:  0.6388888888888888\n",
            "npv is:  0.6129032258064516\n",
            "F1 Score is :  0.6186440677966102\n"
          ]
        }
      ]
    },
    {
      "cell_type": "code",
      "source": [
        "#use package classification report for pre-calcualted values\n",
        "print(classification_report(list(y_test.values), y_pred))"
      ],
      "metadata": {
        "colab": {
          "base_uri": "https://localhost:8080/"
        },
        "id": "9hWgna8vMQw5",
        "outputId": "d4d20fff-ae1d-46d6-9b80-8fc18e796335"
      },
      "execution_count": 67,
      "outputs": [
        {
          "output_type": "stream",
          "name": "stdout",
          "text": [
            "              precision    recall  f1-score   support\n",
            "\n",
            "           1       0.62      0.64      0.63        36\n",
            "           2       0.53      0.42      0.47        45\n",
            "           3       0.69      0.84      0.76        37\n",
            "\n",
            "    accuracy                           0.62       118\n",
            "   macro avg       0.61      0.63      0.62       118\n",
            "weighted avg       0.61      0.62      0.61       118\n",
            "\n"
          ]
        }
      ]
    },
    {
      "cell_type": "markdown",
      "source": [
        "#### **b) Algorithm 2 - kNN Classification**"
      ],
      "metadata": {
        "id": "yMiKb9cP9K76"
      }
    },
    {
      "cell_type": "code",
      "source": [
        "#fit kNN classifier to dataset\n",
        "from sklearn.neighbors import KNeighborsClassifier\n",
        "y_train=y_train.astype('int')\n",
        "knn = KNeighborsClassifier()\n",
        " \n",
        "knn.fit(X_train, y_train)\n",
        "pred = knn.predict(X_test)"
      ],
      "metadata": {
        "id": "Xp49q_wuu8vg"
      },
      "execution_count": 70,
      "outputs": []
    },
    {
      "cell_type": "code",
      "source": [
        "#demonstrate prediction\n",
        "print(pred[:5])"
      ],
      "metadata": {
        "colab": {
          "base_uri": "https://localhost:8080/"
        },
        "id": "2HOeGGK4OmKQ",
        "outputId": "586ff4d5-ad8a-4453-9283-c495060ecc2e"
      },
      "execution_count": 71,
      "outputs": [
        {
          "output_type": "stream",
          "name": "stdout",
          "text": [
            "[1 3 2 1 2]\n"
          ]
        }
      ]
    },
    {
      "cell_type": "code",
      "source": [
        "#implmented stratified k-fold cross validation\n",
        "\n",
        "kf_knn = StratifiedKFold(n_splits=5, shuffle=True, random_state=25)\n",
        "cnt = 1\n",
        "for train_index, test_index in kf_knn.split(X_train, y_train):\n",
        "    print(f'Fold:{cnt}, Train set: {len(train_index)}, Test set:{len(test_index)}')\n",
        "    cnt+=1"
      ],
      "metadata": {
        "colab": {
          "base_uri": "https://localhost:8080/"
        },
        "id": "t6TMl7NrPVuL",
        "outputId": "38636311-9e9f-4671-9470-b036a346c858"
      },
      "execution_count": 81,
      "outputs": [
        {
          "output_type": "stream",
          "name": "stdout",
          "text": [
            "Fold:1, Train set: 377, Test set:95\n",
            "Fold:2, Train set: 377, Test set:95\n",
            "Fold:3, Train set: 378, Test set:94\n",
            "Fold:4, Train set: 378, Test set:94\n",
            "Fold:5, Train set: 378, Test set:94\n"
          ]
        }
      ]
    },
    {
      "cell_type": "code",
      "source": [
        "#obtain the scores for each fold and the average\n",
        "score = cross_val_score(KNeighborsClassifier(), X_train, y_train, cv= kf_knn, scoring=\"accuracy\")\n",
        "\n",
        "print(f'Scores for each fold are: {score}')\n",
        "print(f'Average score: {\"{:.2f}\".format(score.mean())}')"
      ],
      "metadata": {
        "colab": {
          "base_uri": "https://localhost:8080/"
        },
        "id": "rqV3gQrRPobV",
        "outputId": "507fed14-56f8-49f8-a6d6-0b16b314247f"
      },
      "execution_count": 85,
      "outputs": [
        {
          "output_type": "stream",
          "name": "stdout",
          "text": [
            "Scores for each fold are: [0.6        0.53684211 0.4893617  0.58510638 0.57446809]\n",
            "Average score: 0.56\n"
          ]
        }
      ]
    },
    {
      "cell_type": "code",
      "source": [
        "#generate a confusion matrix and visualize the results\n",
        "cm2 = confusion_matrix(list(y_test.values), pred)\n",
        "print(cm2)\n",
        "\n",
        "f = sns.heatmap(cm2, annot=True, fmt='d')"
      ],
      "metadata": {
        "id": "iqGJOEzTu9CJ",
        "colab": {
          "base_uri": "https://localhost:8080/",
          "height": 316
        },
        "outputId": "41c6fa06-fe19-4c33-8c72-ad668f6c8d5a"
      },
      "execution_count": 72,
      "outputs": [
        {
          "output_type": "stream",
          "name": "stdout",
          "text": [
            "[[21 14  1]\n",
            " [19 16 10]\n",
            " [ 6  7 24]]\n"
          ]
        },
        {
          "output_type": "display_data",
          "data": {
            "text/plain": [
              "<Figure size 432x288 with 2 Axes>"
            ],
            "image/png": "[encoded data removed]"
          },
          "metadata": {}
        }
      ]
    },
    {
      "cell_type": "code",
      "source": [
        "#calculate sensitivity, specificity, positive/negative predictive values, f1-score\n",
        "total=sum(sum(cm2))\n",
        "\n",
        "sensitivity = cm2[0,0]/(cm[0,0]+cm[1,0])\n",
        "print('Sensitivity : ', sensitivity )\n",
        "\n",
        "specificity = cm2[1,1]/(cm2[1,1]+cm2[0,1])\n",
        "print('Specificity : ', specificity)\n",
        "\n",
        "total=sum(sum(cm2))\n",
        "\n",
        "ppv = cm2[0,0]/(cm2[0,0]+cm2[0,1])\n",
        "print('ppv : ', ppv )\n",
        "\n",
        "npv = cm2[1,1]/(cm2[1,0]+cm2[1,1])\n",
        "print('npv : ', npv)\n",
        "\n",
        "F1Score1 = f1_score(list(y_test.values), pred, average='micro')\n",
        "print('F1 Score is : ', F1Score1)"
      ],
      "metadata": {
        "colab": {
          "base_uri": "https://localhost:8080/"
        },
        "id": "No673Z0QFwUe",
        "outputId": "4320d4f1-bab9-4fd5-983e-6f414705b492"
      },
      "execution_count": 73,
      "outputs": [
        {
          "output_type": "stream",
          "name": "stdout",
          "text": [
            "Sensitivity :  0.6\n",
            "Specificity :  0.5333333333333333\n",
            "ppv :  0.6\n",
            "npv :  0.45714285714285713\n",
            "F1 Score is :  0.5169491525423728\n"
          ]
        }
      ]
    },
    {
      "cell_type": "code",
      "source": [
        "#use package classification report for pre-calcualted values\n",
        "print(classification_report(list(y_test.values), pred))"
      ],
      "metadata": {
        "id": "HCiC4X7K2riR",
        "colab": {
          "base_uri": "https://localhost:8080/"
        },
        "outputId": "f3c46bda-3f20-4708-ef7d-34bb98f6d47a"
      },
      "execution_count": 80,
      "outputs": [
        {
          "output_type": "stream",
          "name": "stdout",
          "text": [
            "              precision    recall  f1-score   support\n",
            "\n",
            "           1       0.46      0.58      0.51        36\n",
            "           2       0.43      0.36      0.39        45\n",
            "           3       0.69      0.65      0.67        37\n",
            "\n",
            "    accuracy                           0.52       118\n",
            "   macro avg       0.52      0.53      0.52       118\n",
            "weighted avg       0.52      0.52      0.51       118\n",
            "\n"
          ]
        }
      ]
    }
  ],
  "metadata": {
    "colab": {
      "provenance": []
    },
    "kernelspec": {
      "display_name": "Python 3 (ipykernel)",
      "language": "python",
      "name": "python3"
    },
    "language_info": {
      "codemirror_mode": {
        "name": "ipython",
        "version": 3
      },
      "file_extension": ".py",
      "mimetype": "text/x-python",
      "name": "python",
      "nbconvert_exporter": "python",
      "pygments_lexer": "ipython3",
      "version": "3.8.5"
    },
    "nteract": {
      "version": "0.28.0"
    },
    "varInspector": {
      "cols": {
        "lenName": 16,
        "lenType": 16,
        "lenVar": 40
      },
      "kernels_config": {
        "python": {
          "delete_cmd_postfix": "",
          "delete_cmd_prefix": "del ",
          "library": "var_list.py",
          "varRefreshCmd": "print(var_dic_list())"
        },
        "r": {
          "delete_cmd_postfix": ") ",
          "delete_cmd_prefix": "rm(",
          "library": "var_list.r",
          "varRefreshCmd": "cat(var_dic_list()) "
        }
      },
      "types_to_exclude": [
        "module",
        "function",
        "builtin_function_or_method",
        "instance",
        "_Feature"
      ],
      "window_display": false
    }
  },
  "nbformat": 4,
  "nbformat_minor": 0
}